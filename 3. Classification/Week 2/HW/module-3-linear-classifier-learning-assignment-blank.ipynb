{
 "cells": [
  {
   "cell_type": "markdown",
   "metadata": {},
   "source": [
    "# Implementing logistic regression from scratch\n",
    "\n",
    "The goal of this notebook is to implement your own logistic regression classifier. You will:\n",
    "\n",
    " * Extract features from Amazon product reviews.\n",
    " * Convert an SFrame into a NumPy array.\n",
    " * Implement the link function for logistic regression.\n",
    " * Write a function to compute the derivative of the log likelihood function with respect to a single coefficient.\n",
    " * Implement gradient ascent.\n",
    " * Given a set of coefficients, predict sentiments.\n",
    " * Compute classification accuracy for the logistic regression model.\n",
    " \n",
    "Let's get started!\n",
    "    \n",
    "## Fire up GraphLab Create\n",
    "\n",
    "Make sure you have the latest version of GraphLab Create. Upgrade by\n",
    "```\n",
    "   pip install graphlab-create --upgrade\n",
    "```\n",
    "See [this page](https://dato.com/download/) for detailed instructions on upgrading."
   ]
  },
  {
   "cell_type": "code",
   "execution_count": 97,
   "metadata": {
    "collapsed": false
   },
   "outputs": [],
   "source": [
    "import graphlab\n",
    "graphlab.product_key.set_product_key('81D7-5BA3-48F5-157F-9580-7FD8-D78A-EA18')"
   ]
  },
  {
   "cell_type": "markdown",
   "metadata": {},
   "source": [
    "## Load review dataset"
   ]
  },
  {
   "cell_type": "markdown",
   "metadata": {},
   "source": [
    "For this assignment, we will use a subset of the Amazon product review dataset. The subset was chosen to contain similar numbers of positive and negative reviews, as the original dataset consisted primarily of positive reviews."
   ]
  },
  {
   "cell_type": "code",
   "execution_count": 98,
   "metadata": {
    "collapsed": false
   },
   "outputs": [],
   "source": [
    "products = graphlab.SFrame('amazon_baby_subset.gl/')"
   ]
  },
  {
   "cell_type": "markdown",
   "metadata": {},
   "source": [
    "One column of this dataset is 'sentiment', corresponding to the class label with +1 indicating a review with positive sentiment and -1 indicating one with negative sentiment."
   ]
  },
  {
   "cell_type": "code",
   "execution_count": 99,
   "metadata": {
    "collapsed": false
   },
   "outputs": [
    {
     "data": {
      "text/plain": [
       "dtype: int\n",
       "Rows: 53072\n",
       "[1, 1, 1, 1, 1, 1, 1, 1, 1, 1, 1, 1, 1, 1, 1, 1, 1, 1, 1, 1, 1, 1, 1, 1, 1, 1, 1, 1, 1, 1, 1, 1, 1, 1, 1, 1, 1, 1, 1, 1, 1, 1, 1, 1, 1, 1, 1, 1, 1, 1, 1, 1, 1, 1, 1, 1, 1, 1, 1, 1, 1, 1, 1, 1, 1, 1, 1, 1, 1, 1, 1, 1, 1, 1, 1, 1, 1, 1, 1, 1, 1, 1, 1, 1, 1, 1, 1, 1, 1, 1, 1, 1, 1, 1, 1, 1, 1, 1, 1, 1, ... ]"
      ]
     },
     "execution_count": 99,
     "metadata": {},
     "output_type": "execute_result"
    }
   ],
   "source": [
    "products['sentiment']"
   ]
  },
  {
   "cell_type": "markdown",
   "metadata": {},
   "source": [
    "Let us quickly explore more of this dataset.  The 'name' column indicates the name of the product.  Here we list the first 10 products in the dataset.  We then count the number of positive and negative reviews."
   ]
  },
  {
   "cell_type": "code",
   "execution_count": 100,
   "metadata": {
    "collapsed": false
   },
   "outputs": [
    {
     "data": {
      "text/plain": [
       "dtype: str\n",
       "Rows: 10\n",
       "[\"Stop Pacifier Sucking without tears with Thumbuddy To Love's Binky Fairy Puppet and Adorable Book\", \"Nature's Lullabies Second Year Sticker Calendar\", \"Nature's Lullabies Second Year Sticker Calendar\", 'Lamaze Peekaboo, I Love You', \"SoftPlay Peek-A-Boo Where's Elmo A Children's Book\", 'Our Baby Girl Memory Book', 'Hunnt&reg; Falling Flowers and Birds Kids Nursery Home Decor Vinyl Mural Art Wall Paper Stickers', 'Blessed By Pope Benedict XVI Divine Mercy Full Color Medal', 'Cloth Diaper Pins Stainless Steel Traditional Safety Pin (Black)', 'Cloth Diaper Pins Stainless Steel Traditional Safety Pin (Black)']"
      ]
     },
     "execution_count": 100,
     "metadata": {},
     "output_type": "execute_result"
    }
   ],
   "source": [
    "products.head(10)['name']"
   ]
  },
  {
   "cell_type": "code",
   "execution_count": 101,
   "metadata": {
    "collapsed": false
   },
   "outputs": [
    {
     "name": "stdout",
     "output_type": "stream",
     "text": [
      "# of positive reviews = 26579\n",
      "# of negative reviews = 26493\n"
     ]
    }
   ],
   "source": [
    "print '# of positive reviews =', len(products[products['sentiment']==1])\n",
    "print '# of negative reviews =', len(products[products['sentiment']==-1])"
   ]
  },
  {
   "cell_type": "markdown",
   "metadata": {},
   "source": [
    "**Note:** For this assignment, we eliminated class imbalance by choosing \n",
    "a subset of the data with a similar number of positive and negative reviews. \n",
    "\n",
    "## Apply text cleaning on the review data\n",
    "\n",
    "In this section, we will perform some simple feature cleaning using **SFrames**. The last assignment used all words in building bag-of-words features, but here we limit ourselves to 193 words (for simplicity). We compiled a list of 193 most frequent words into a JSON file. \n",
    "\n",
    "Now, we will load these words from this JSON file:"
   ]
  },
  {
   "cell_type": "code",
   "execution_count": 102,
   "metadata": {
    "collapsed": false
   },
   "outputs": [],
   "source": [
    "import json\n",
    "with open('important_words.json', 'r') as f: # Reads the list of most frequent words\n",
    "    important_words = json.load(f)\n",
    "important_words = [str(s) for s in important_words]"
   ]
  },
  {
   "cell_type": "code",
   "execution_count": 103,
   "metadata": {
    "collapsed": false
   },
   "outputs": [
    {
     "name": "stdout",
     "output_type": "stream",
     "text": [
      "['baby', 'one', 'great', 'love', 'use', 'would', 'like', 'easy', 'little', 'seat', 'old', 'well', 'get', 'also', 'really', 'son', 'time', 'bought', 'product', 'good', 'daughter', 'much', 'loves', 'stroller', 'put', 'months', 'car', 'still', 'back', 'used', 'recommend', 'first', 'even', 'perfect', 'nice', 'bag', 'two', 'using', 'got', 'fit', 'around', 'diaper', 'enough', 'month', 'price', 'go', 'could', 'soft', 'since', 'buy', 'room', 'works', 'made', 'child', 'keep', 'size', 'small', 'need', 'year', 'big', 'make', 'take', 'easily', 'think', 'crib', 'clean', 'way', 'quality', 'thing', 'better', 'without', 'set', 'new', 'every', 'cute', 'best', 'bottles', 'work', 'purchased', 'right', 'lot', 'side', 'happy', 'comfortable', 'toy', 'able', 'kids', 'bit', 'night', 'long', 'fits', 'see', 'us', 'another', 'play', 'day', 'money', 'monitor', 'tried', 'thought', 'never', 'item', 'hard', 'plastic', 'however', 'disappointed', 'reviews', 'something', 'going', 'pump', 'bottle', 'cup', 'waste', 'return', 'amazon', 'different', 'top', 'want', 'problem', 'know', 'water', 'try', 'received', 'sure', 'times', 'chair', 'find', 'hold', 'gate', 'open', 'bottom', 'away', 'actually', 'cheap', 'worked', 'getting', 'ordered', 'came', 'milk', 'bad', 'part', 'worth', 'found', 'cover', 'many', 'design', 'looking', 'weeks', 'say', 'wanted', 'look', 'place', 'purchase', 'looks', 'second', 'piece', 'box', 'pretty', 'trying', 'difficult', 'together', 'though', 'give', 'started', 'anything', 'last', 'company', 'come', 'returned', 'maybe', 'took', 'broke', 'makes', 'stay', 'instead', 'idea', 'head', 'said', 'less', 'went', 'working', 'high', 'unit', 'seems', 'picture', 'completely', 'wish', 'buying', 'babies', 'won', 'tub', 'almost', 'either']\n"
     ]
    }
   ],
   "source": [
    "print important_words"
   ]
  },
  {
   "cell_type": "markdown",
   "metadata": {},
   "source": [
    "Now, we will perform 2 simple data transformations:\n",
    "\n",
    "1. Remove punctuation using [Python's built-in](https://docs.python.org/2/library/string.html) string functionality.\n",
    "2. Compute word counts (only for **important_words**)\n",
    "\n",
    "We start with *Step 1* which can be done as follows:"
   ]
  },
  {
   "cell_type": "code",
   "execution_count": 104,
   "metadata": {
    "collapsed": false
   },
   "outputs": [],
   "source": [
    "def remove_punctuation(text):\n",
    "    import string\n",
    "    return text.translate(None, string.punctuation) \n",
    "\n",
    "products['review_clean'] = products['review'].apply(remove_punctuation)"
   ]
  },
  {
   "cell_type": "markdown",
   "metadata": {},
   "source": [
    "Now we proceed with *Step 2*. For each word in **important_words**, we compute a count for the number of times the word occurs in the review. We will store this count in a separate column (one for each word). The result of this feature processing is a single column for each word in **important_words** which keeps a count of the number of times the respective word occurs in the review text.\n",
    "\n",
    "\n",
    "**Note:** There are several ways of doing this. In this assignment, we use the built-in *count* function for Python lists. Each review string is first split into individual words and the number of occurances of a given word is counted."
   ]
  },
  {
   "cell_type": "code",
   "execution_count": 105,
   "metadata": {
    "collapsed": false
   },
   "outputs": [],
   "source": [
    "for word in important_words:\n",
    "    products[word] = products['review_clean'].apply(lambda s : s.split().count(word))"
   ]
  },
  {
   "cell_type": "markdown",
   "metadata": {},
   "source": [
    "The SFrame **products** now contains one column for each of the 193 **important_words**. As an example, the column **perfect** contains a count of the number of times the word **perfect** occurs in each of the reviews."
   ]
  },
  {
   "cell_type": "code",
   "execution_count": 106,
   "metadata": {
    "collapsed": false
   },
   "outputs": [
    {
     "data": {
      "text/plain": [
       "dtype: int\n",
       "Rows: 53072\n",
       "[0, 0, 0, 1, 0, 0, 0, 0, 0, 0, 0, 1, 0, 0, 0, 0, 0, 0, 0, 0, 0, 0, 1, 0, 1, 0, 0, 1, 0, 0, 0, 0, 0, 0, 0, 0, 0, 0, 0, 0, 0, 0, 0, 0, 0, 0, 0, 0, 0, 0, 0, 0, 0, 0, 0, 0, 0, 0, 0, 0, 0, 0, 0, 0, 0, 0, 0, 0, 0, 0, 0, 0, 0, 0, 0, 0, 0, 0, 0, 0, 0, 0, 0, 0, 0, 0, 0, 0, 0, 0, 0, 0, 0, 0, 0, 0, 0, 0, 0, 0, ... ]"
      ]
     },
     "execution_count": 106,
     "metadata": {},
     "output_type": "execute_result"
    }
   ],
   "source": [
    "products['perfect']"
   ]
  },
  {
   "cell_type": "markdown",
   "metadata": {},
   "source": [
    "Now, write some code to compute the number of product reviews that contain the word **perfect**.\n",
    "\n",
    "**Hint**: \n",
    "* First create a column called `contains_perfect` which is set to 1 if the count of the word **perfect** (stored in column **perfect**) is >= 1.\n",
    "* Sum the number of 1s in the column `contains_perfect`."
   ]
  },
  {
   "cell_type": "code",
   "execution_count": 107,
   "metadata": {
    "collapsed": false
   },
   "outputs": [
    {
     "data": {
      "text/plain": [
       "2955"
      ]
     },
     "execution_count": 107,
     "metadata": {},
     "output_type": "execute_result"
    }
   ],
   "source": [
    "products['contains_perfect'] = products['perfect'].apply(lambda x: 1 if x >= 1 else 0)\n",
    "products['contains_perfect'].sum()"
   ]
  },
  {
   "cell_type": "markdown",
   "metadata": {},
   "source": [
    "**Quiz Question**. How many reviews contain the word **perfect**?"
   ]
  },
  {
   "cell_type": "markdown",
   "metadata": {},
   "source": [
    "## Convert SFrame to NumPy array\n",
    "\n",
    "As you have seen previously, NumPy is a powerful library for doing matrix manipulation. Let us convert our data to matrices and then implement our algorithms with matrices.\n",
    "\n",
    "First, make sure you can perform the following import."
   ]
  },
  {
   "cell_type": "code",
   "execution_count": 108,
   "metadata": {
    "collapsed": true
   },
   "outputs": [],
   "source": [
    "import numpy as np"
   ]
  },
  {
   "cell_type": "markdown",
   "metadata": {},
   "source": [
    "We now provide you with a function that extracts columns from an SFrame and converts them into a NumPy array. Two arrays are returned: one representing features and another representing class labels. Note that the feature matrix includes an additional column 'intercept' to take account of the intercept term."
   ]
  },
  {
   "cell_type": "code",
   "execution_count": 109,
   "metadata": {
    "collapsed": true
   },
   "outputs": [],
   "source": [
    "def get_numpy_data(data_sframe, features, label):\n",
    "    data_sframe['intercept'] = 1\n",
    "    features = ['intercept'] + features\n",
    "    features_sframe = data_sframe[features]\n",
    "    feature_matrix = features_sframe.to_numpy()\n",
    "    label_sarray = data_sframe[label]\n",
    "    label_array = label_sarray.to_numpy()\n",
    "    return(feature_matrix, label_array)"
   ]
  },
  {
   "cell_type": "markdown",
   "metadata": {},
   "source": [
    "Let us convert the data into NumPy arrays."
   ]
  },
  {
   "cell_type": "code",
   "execution_count": 110,
   "metadata": {
    "collapsed": false
   },
   "outputs": [],
   "source": [
    "# Warning: This may take a few minutes...\n",
    "feature_matrix, sentiment = get_numpy_data(products, important_words, 'sentiment') "
   ]
  },
  {
   "cell_type": "markdown",
   "metadata": {},
   "source": [
    "**Are you running this notebook on an Amazon EC2 t2.micro instance?** (If you are using your own machine, please skip this section)\n",
    "\n",
    "It has been reported that t2.micro instances do not provide sufficient power to complete the conversion in acceptable amount of time. For interest of time, please refrain from running `get_numpy_data` function. Instead, download the [binary file](https://s3.amazonaws.com/static.dato.com/files/coursera/course-3/numpy-arrays/module-3-assignment-numpy-arrays.npz) containing the four NumPy arrays you'll need for the assignment. To load the arrays, run the following commands:\n",
    "```\n",
    "arrays = np.load('module-3-assignment-numpy-arrays.npz')\n",
    "feature_matrix, sentiment = arrays['feature_matrix'], arrays['sentiment']\n",
    "```"
   ]
  },
  {
   "cell_type": "code",
   "execution_count": 111,
   "metadata": {
    "collapsed": false
   },
   "outputs": [],
   "source": [
    "arrays = np.load('numpy-arrays/module-3-assignment-numpy-arrays.npz')\n",
    "feature_matrix, sentiment = arrays['feature_matrix'], arrays['sentiment']"
   ]
  },
  {
   "cell_type": "code",
   "execution_count": 112,
   "metadata": {
    "collapsed": false
   },
   "outputs": [
    {
     "data": {
      "text/plain": [
       "(53072, 194)"
      ]
     },
     "execution_count": 112,
     "metadata": {},
     "output_type": "execute_result"
    }
   ],
   "source": [
    "feature_matrix.shape"
   ]
  },
  {
   "cell_type": "markdown",
   "metadata": {},
   "source": [
    "** Quiz Question:** How many features are there in the **feature_matrix**?\n",
    "\n",
    "** Quiz Question:** Assuming that the intercept is present, how does the number of features in **feature_matrix** relate to the number of features in the logistic regression model?"
   ]
  },
  {
   "cell_type": "markdown",
   "metadata": {},
   "source": [
    "Now, let us see what the **sentiment** column looks like:"
   ]
  },
  {
   "cell_type": "code",
   "execution_count": 113,
   "metadata": {
    "collapsed": false
   },
   "outputs": [
    {
     "data": {
      "text/plain": [
       "array([ 1,  1,  1, ..., -1, -1, -1])"
      ]
     },
     "execution_count": 113,
     "metadata": {},
     "output_type": "execute_result"
    }
   ],
   "source": [
    "sentiment"
   ]
  },
  {
   "cell_type": "markdown",
   "metadata": {},
   "source": [
    "## Estimating conditional probability with link function"
   ]
  },
  {
   "cell_type": "markdown",
   "metadata": {},
   "source": [
    "Recall from lecture that the link function is given by:\n",
    "$$\n",
    "P(y_i = +1 | \\mathbf{x}_i,\\mathbf{w}) = \\frac{1}{1 + \\exp(-\\mathbf{w}^T h(\\mathbf{x}_i))},\n",
    "$$\n",
    "\n",
    "where the feature vector $h(\\mathbf{x}_i)$ represents the word counts of **important_words** in the review  $\\mathbf{x}_i$. Complete the following function that implements the link function:"
   ]
  },
  {
   "cell_type": "code",
   "execution_count": 114,
   "metadata": {
    "collapsed": false
   },
   "outputs": [],
   "source": [
    "'''\n",
    "produces probablistic estimate for P(y_i = +1 | x_i, w).\n",
    "estimate ranges between 0 and 1.\n",
    "'''\n",
    "def predict_probability(feature_matrix, coefficients):\n",
    "    # Take dot product of feature_matrix and coefficients    \n",
    "    # Compute P(y_i = +1 | x_i, w) using the link function\n",
    "    predictions = 1./(1+np.exp(-np.dot(feature_matrix, coefficients)))\n",
    "\n",
    "    return predictions"
   ]
  },
  {
   "cell_type": "markdown",
   "metadata": {},
   "source": [
    "**Aside**. How the link function works with matrix algebra\n",
    "\n",
    "Since the word counts are stored as columns in **feature_matrix**, each $i$-th row of the matrix corresponds to the feature vector $h(\\mathbf{x}_i)$:\n",
    "$$\n",
    "[\\text{feature_matrix}] =\n",
    "\\left[\n",
    "\\begin{array}{c}\n",
    "h(\\mathbf{x}_1)^T \\\\\n",
    "h(\\mathbf{x}_2)^T \\\\\n",
    "\\vdots \\\\\n",
    "h(\\mathbf{x}_N)^T\n",
    "\\end{array}\n",
    "\\right] =\n",
    "\\left[\n",
    "\\begin{array}{cccc}\n",
    "h_0(\\mathbf{x}_1) & h_1(\\mathbf{x}_1) & \\cdots & h_D(\\mathbf{x}_1) \\\\\n",
    "h_0(\\mathbf{x}_2) & h_1(\\mathbf{x}_2) & \\cdots & h_D(\\mathbf{x}_2) \\\\\n",
    "\\vdots & \\vdots & \\ddots & \\vdots \\\\\n",
    "h_0(\\mathbf{x}_N) & h_1(\\mathbf{x}_N) & \\cdots & h_D(\\mathbf{x}_N)\n",
    "\\end{array}\n",
    "\\right]\n",
    "$$\n",
    "\n",
    "By the rules of matrix multiplication, the score vector containing elements $\\mathbf{w}^T h(\\mathbf{x}_i)$ is obtained by multiplying **feature_matrix** and the coefficient vector $\\mathbf{w}$.\n",
    "$$\n",
    "[\\text{score}] =\n",
    "[\\text{feature_matrix}]\\mathbf{w} =\n",
    "\\left[\n",
    "\\begin{array}{c}\n",
    "h(\\mathbf{x}_1)^T \\\\\n",
    "h(\\mathbf{x}_2)^T \\\\\n",
    "\\vdots \\\\\n",
    "h(\\mathbf{x}_N)^T\n",
    "\\end{array}\n",
    "\\right]\n",
    "\\mathbf{w}\n",
    "= \\left[\n",
    "\\begin{array}{c}\n",
    "h(\\mathbf{x}_1)^T\\mathbf{w} \\\\\n",
    "h(\\mathbf{x}_2)^T\\mathbf{w} \\\\\n",
    "\\vdots \\\\\n",
    "h(\\mathbf{x}_N)^T\\mathbf{w}\n",
    "\\end{array}\n",
    "\\right]\n",
    "= \\left[\n",
    "\\begin{array}{c}\n",
    "\\mathbf{w}^T h(\\mathbf{x}_1) \\\\\n",
    "\\mathbf{w}^T h(\\mathbf{x}_2) \\\\\n",
    "\\vdots \\\\\n",
    "\\mathbf{w}^T h(\\mathbf{x}_N)\n",
    "\\end{array}\n",
    "\\right]\n",
    "$$"
   ]
  },
  {
   "cell_type": "markdown",
   "metadata": {},
   "source": [
    "**Checkpoint**\n",
    "\n",
    "Just to make sure you are on the right track, we have provided a few examples. If your `predict_probability` function is implemented correctly, then the outputs will match:"
   ]
  },
  {
   "cell_type": "code",
   "execution_count": 115,
   "metadata": {
    "collapsed": false
   },
   "outputs": [
    {
     "name": "stdout",
     "output_type": "stream",
     "text": [
      "The following outputs must match \n",
      "------------------------------------------------\n",
      "correct_predictions           = [ 0.98201379  0.26894142]\n",
      "output of predict_probability = [ 0.98201379  0.26894142]\n"
     ]
    }
   ],
   "source": [
    "dummy_feature_matrix = np.array([[1.,2.,3.], [1.,-1.,-1]])\n",
    "dummy_coefficients = np.array([1., 3., -1.])\n",
    "\n",
    "correct_scores      = np.array( [ 1.*1. + 2.*3. + 3.*(-1.),          1.*1. + (-1.)*3. + (-1.)*(-1.) ] )\n",
    "correct_predictions = np.array( [ 1./(1+np.exp(-correct_scores[0])), 1./(1+np.exp(-correct_scores[1])) ] )\n",
    "\n",
    "print 'The following outputs must match '\n",
    "print '------------------------------------------------'\n",
    "print 'correct_predictions           =', correct_predictions\n",
    "print 'output of predict_probability =', predict_probability(dummy_feature_matrix, dummy_coefficients)"
   ]
  },
  {
   "cell_type": "markdown",
   "metadata": {},
   "source": [
    "## Compute derivative of log likelihood with respect to a single coefficient\n",
    "\n",
    "Recall from lecture:\n",
    "$$\n",
    "\\frac{\\partial\\ell}{\\partial w_j} = \\sum_{i=1}^N h_j(\\mathbf{x}_i)\\left(\\mathbf{1}[y_i = +1] - P(y_i = +1 | \\mathbf{x}_i, \\mathbf{w})\\right)\n",
    "$$\n",
    "\n",
    "We will now write a function that computes the derivative of log likelihood with respect to a single coefficient $w_j$. The function accepts two arguments:\n",
    "* `errors` vector containing $\\mathbf{1}[y_i = +1] - P(y_i = +1 | \\mathbf{x}_i, \\mathbf{w})$ for all $i$.\n",
    "* `feature` vector containing $h_j(\\mathbf{x}_i)$  for all $i$. \n",
    "\n",
    "Complete the following code block:"
   ]
  },
  {
   "cell_type": "code",
   "execution_count": 116,
   "metadata": {
    "collapsed": true
   },
   "outputs": [],
   "source": [
    "def feature_derivative(errors, feature):     \n",
    "    # Compute the dot product of errors and feature\n",
    "    derivative = np.dot(errors, feature)\n",
    "    \n",
    "    # Return the derivative\n",
    "    return derivative"
   ]
  },
  {
   "cell_type": "markdown",
   "metadata": {},
   "source": [
    "In the main lecture, our focus was on the likelihood.  In the advanced optional video, however, we introduced a transformation of this likelihood---called the log likelihood---that simplifies the derivation of the gradient and is more numerically stable.  Due to its numerical stability, we will use the log likelihood instead of the likelihood to assess the algorithm.\n",
    "\n",
    "The log likelihood is computed using the following formula (see the advanced optional video if you are curious about the derivation of this equation):\n",
    "\n",
    "$$\\ell\\ell(\\mathbf{w}) = \\sum_{i=1}^N \\Big( (\\mathbf{1}[y_i = +1] - 1)\\mathbf{w}^T h(\\mathbf{x}_i) - \\ln\\left(1 + \\exp(-\\mathbf{w}^T h(\\mathbf{x}_i))\\right) \\Big) $$\n",
    "\n",
    "We provide a function to compute the log likelihood for the entire dataset. "
   ]
  },
  {
   "cell_type": "code",
   "execution_count": 117,
   "metadata": {
    "collapsed": false
   },
   "outputs": [],
   "source": [
    "def compute_log_likelihood(feature_matrix, sentiment, coefficients):\n",
    "    indicator = (sentiment==+1)\n",
    "    scores = np.dot(feature_matrix, coefficients)\n",
    "    logexp = np.log(1. + np.exp(-scores))\n",
    "    \n",
    "    # Simple check to prevent overflow\n",
    "    mask = np.isinf(logexp)\n",
    "    logexp[mask] = -scores[mask]\n",
    "    \n",
    "    lp = np.sum((indicator-1)*scores - logexp)\n",
    "    return lp"
   ]
  },
  {
   "cell_type": "markdown",
   "metadata": {},
   "source": [
    "**Checkpoint**\n",
    "\n",
    "Just to make sure we are on the same page, run the following code block and check that the outputs match."
   ]
  },
  {
   "cell_type": "code",
   "execution_count": 118,
   "metadata": {
    "collapsed": false
   },
   "outputs": [
    {
     "name": "stdout",
     "output_type": "stream",
     "text": [
      "The following outputs must match \n",
      "------------------------------------------------\n",
      "correct_log_likelihood           = -5.33141161544\n",
      "output of compute_log_likelihood = -5.33141161544\n"
     ]
    }
   ],
   "source": [
    "dummy_feature_matrix = np.array([[1.,2.,3.], [1.,-1.,-1]])\n",
    "dummy_coefficients = np.array([1., 3., -1.])\n",
    "dummy_sentiment = np.array([-1, 1])\n",
    "\n",
    "correct_indicators  = np.array( [ -1==+1,                                       1==+1 ] )\n",
    "correct_scores      = np.array( [ 1.*1. + 2.*3. + 3.*(-1.),                     1.*1. + (-1.)*3. + (-1.)*(-1.) ] )\n",
    "correct_first_term  = np.array( [ (correct_indicators[0]-1)*correct_scores[0],  (correct_indicators[1]-1)*correct_scores[1] ] )\n",
    "correct_second_term = np.array( [ np.log(1. + np.exp(-correct_scores[0])),      np.log(1. + np.exp(-correct_scores[1])) ] )\n",
    "\n",
    "correct_ll          =      sum( [ correct_first_term[0]-correct_second_term[0], correct_first_term[1]-correct_second_term[1] ] ) \n",
    "\n",
    "print 'The following outputs must match '\n",
    "print '------------------------------------------------'\n",
    "print 'correct_log_likelihood           =', correct_ll\n",
    "print 'output of compute_log_likelihood =', compute_log_likelihood(dummy_feature_matrix, dummy_sentiment, dummy_coefficients)"
   ]
  },
  {
   "cell_type": "markdown",
   "metadata": {},
   "source": [
    "## Taking gradient steps"
   ]
  },
  {
   "cell_type": "markdown",
   "metadata": {},
   "source": [
    "Now we are ready to implement our own logistic regression. All we have to do is to write a gradient ascent function that takes gradient steps towards the optimum. \n",
    "\n",
    "Complete the following function to solve the logistic regression model using gradient ascent:"
   ]
  },
  {
   "cell_type": "code",
   "execution_count": 119,
   "metadata": {
    "collapsed": false
   },
   "outputs": [],
   "source": [
    "from math import sqrt\n",
    "\n",
    "def logistic_regression(feature_matrix, sentiment, initial_coefficients, step_size, max_iter):\n",
    "    coefficients = np.array(initial_coefficients) # make sure it's a numpy array\n",
    "    for itr in xrange(max_iter):\n",
    "\n",
    "        # Predict P(y_i = +1|x_i,w) using your predict_probability() function\n",
    "        # YOUR CODE HERE\n",
    "        predictions = predict_probability(feature_matrix, coefficients)\n",
    "        \n",
    "        # Compute indicator value for (y_i = +1)\n",
    "        indicator = (sentiment==+1)\n",
    "        \n",
    "        # Compute the errors as indicator - predictions\n",
    "        errors = indicator - predictions\n",
    "        for j in xrange(len(coefficients)): # loop over each coefficient\n",
    "            \n",
    "            # Recall that feature_matrix[:,j] is the feature column associated with coefficients[j].\n",
    "            # Compute the derivative for coefficients[j]. Save it in a variable called derivative\n",
    "            # YOUR CODE HERE\n",
    "            derivative = feature_derivative(errors, feature_matrix[:,j])\n",
    "            \n",
    "            # add the step size times the derivative to the current coefficient\n",
    "            ## YOUR CODE HERE\n",
    "            coefficients[j] += step_size * derivative\n",
    "        \n",
    "        # Checking whether log likelihood is increasing\n",
    "        if itr <= 15 or (itr <= 100 and itr % 10 == 0) or (itr <= 1000 and itr % 100 == 0) \\\n",
    "        or (itr <= 10000 and itr % 1000 == 0) or itr % 10000 == 0:\n",
    "            lp = compute_log_likelihood(feature_matrix, sentiment, coefficients)\n",
    "            print 'iteration %*d: log likelihood of observed labels = %.8f' % \\\n",
    "                (int(np.ceil(np.log10(max_iter))), itr, lp)\n",
    "    return coefficients"
   ]
  },
  {
   "cell_type": "markdown",
   "metadata": {},
   "source": [
    "Now, let us run the logistic regression solver."
   ]
  },
  {
   "cell_type": "code",
   "execution_count": 120,
   "metadata": {
    "collapsed": false
   },
   "outputs": [
    {
     "name": "stdout",
     "output_type": "stream",
     "text": [
      "iteration   0: log likelihood of observed labels = -36780.91768478\n",
      "iteration   1: log likelihood of observed labels = -36775.13434712\n",
      "iteration   2: log likelihood of observed labels = -36769.35713564\n",
      "iteration   3: log likelihood of observed labels = -36763.58603240\n",
      "iteration   4: log likelihood of observed labels = -36757.82101962\n",
      "iteration   5: log likelihood of observed labels = -36752.06207964\n",
      "iteration   6: log likelihood of observed labels = -36746.30919497\n",
      "iteration   7: log likelihood of observed labels = -36740.56234821\n",
      "iteration   8: log likelihood of observed labels = -36734.82152213\n",
      "iteration   9: log likelihood of observed labels = -36729.08669961\n",
      "iteration  10: log likelihood of observed labels = -36723.35786366\n",
      "iteration  11: log likelihood of observed labels = -36717.63499744\n",
      "iteration  12: log likelihood of observed labels = -36711.91808422\n",
      "iteration  13: log likelihood of observed labels = -36706.20710739\n",
      "iteration  14: log likelihood of observed labels = -36700.50205049\n",
      "iteration  15: log likelihood of observed labels = -36694.80289716\n",
      "iteration  20: log likelihood of observed labels = -36666.39512033\n",
      "iteration  30: log likelihood of observed labels = -36610.01327118\n",
      "iteration  40: log likelihood of observed labels = -36554.19728365\n",
      "iteration  50: log likelihood of observed labels = -36498.93316099\n",
      "iteration  60: log likelihood of observed labels = -36444.20783914\n",
      "iteration  70: log likelihood of observed labels = -36390.00909449\n",
      "iteration  80: log likelihood of observed labels = -36336.32546144\n",
      "iteration  90: log likelihood of observed labels = -36283.14615871\n",
      "iteration 100: log likelihood of observed labels = -36230.46102347\n",
      "iteration 200: log likelihood of observed labels = -35728.89418769\n",
      "iteration 300: log likelihood of observed labels = -35268.51212683\n"
     ]
    }
   ],
   "source": [
    "coefficients = logistic_regression(feature_matrix, sentiment, initial_coefficients=np.zeros(194),\n",
    "                                   step_size=1e-7, max_iter=301)"
   ]
  },
  {
   "cell_type": "markdown",
   "metadata": {},
   "source": [
    "**Quiz question:** As each iteration of gradient ascent passes, does the log likelihood increase or decrease?"
   ]
  },
  {
   "cell_type": "markdown",
   "metadata": {},
   "source": [
    "## Predicting sentiments"
   ]
  },
  {
   "cell_type": "markdown",
   "metadata": {},
   "source": [
    "Recall from lecture that class predictions for a data point $\\mathbf{x}$ can be computed from the coefficients $\\mathbf{w}$ using the following formula:\n",
    "$$\n",
    "\\hat{y}_i = \n",
    "\\left\\{\n",
    "\\begin{array}{ll}\n",
    "      +1 & \\mathbf{x}_i^T\\mathbf{w} > 0 \\\\\n",
    "      -1 & \\mathbf{x}_i^T\\mathbf{w} \\leq 0 \\\\\n",
    "\\end{array} \n",
    "\\right.\n",
    "$$\n",
    "\n",
    "Now, we will write some code to compute class predictions. We will do this in two steps:\n",
    "* **Step 1**: First compute the **scores** using **feature_matrix** and **coefficients** using a dot product.\n",
    "* **Step 2**: Using the formula above, compute the class predictions from the scores.\n",
    "\n",
    "Step 1 can be implemented as follows:"
   ]
  },
  {
   "cell_type": "code",
   "execution_count": 121,
   "metadata": {
    "collapsed": true
   },
   "outputs": [],
   "source": [
    "# Compute the scores as a dot product between feature_matrix and coefficients.\n",
    "scores = np.dot(feature_matrix, coefficients)"
   ]
  },
  {
   "cell_type": "markdown",
   "metadata": {},
   "source": [
    "Now, complete the following code block for **Step 2** to compute the class predictions using the **scores** obtained above:"
   ]
  },
  {
   "cell_type": "code",
   "execution_count": 122,
   "metadata": {
    "collapsed": false
   },
   "outputs": [],
   "source": [
    "prediction = graphlab.SFrame(scores)['X1'].apply(lambda x: +1 if x > 0 else -1)"
   ]
  },
  {
   "cell_type": "markdown",
   "metadata": {},
   "source": [
    "** Quiz question: ** How many reviews were predicted to have positive sentiment?"
   ]
  },
  {
   "cell_type": "code",
   "execution_count": 123,
   "metadata": {
    "collapsed": false
   },
   "outputs": [
    {
     "data": {
      "text/plain": [
       "25126"
      ]
     },
     "execution_count": 123,
     "metadata": {},
     "output_type": "execute_result"
    }
   ],
   "source": [
    "(prediction == +1).sum()"
   ]
  },
  {
   "cell_type": "markdown",
   "metadata": {},
   "source": [
    "## Measuring accuracy\n",
    "\n",
    "We will now measure the classification accuracy of the model. Recall from the lecture that the classification accuracy can be computed as follows:\n",
    "\n",
    "$$\n",
    "\\mbox{accuracy} = \\frac{\\mbox{# correctly classified data points}}{\\mbox{# total data points}}\n",
    "$$\n",
    "\n",
    "Complete the following code block to compute the accuracy of the model."
   ]
  },
  {
   "cell_type": "code",
   "execution_count": 124,
   "metadata": {
    "collapsed": false
   },
   "outputs": [
    {
     "name": "stdout",
     "output_type": "stream",
     "text": [
      "-----------------------------------------------------\n",
      "# Reviews   correctly classified = 39903\n",
      "# Reviews incorrectly classified = 13169\n",
      "# Reviews total                  = 53072\n",
      "-----------------------------------------------------\n",
      "Accuracy = 0.75\n"
     ]
    }
   ],
   "source": [
    "num_mistakes = (graphlab.SFrame(prediction)['X1']  != graphlab.SFrame(sentiment)['X1'] ).sum()\n",
    "accuracy = 1 - float(num_mistakes)/len(sentiment)\n",
    "print \"-----------------------------------------------------\"\n",
    "print '# Reviews   correctly classified =', len(products) - num_mistakes\n",
    "print '# Reviews incorrectly classified =', num_mistakes\n",
    "print '# Reviews total                  =', len(products)\n",
    "print \"-----------------------------------------------------\"\n",
    "print 'Accuracy = %.2f' % accuracy"
   ]
  },
  {
   "cell_type": "markdown",
   "metadata": {},
   "source": [
    "**Quiz question**: What is the accuracy of the model on predictions made above? (round to 2 digits of accuracy)"
   ]
  },
  {
   "cell_type": "markdown",
   "metadata": {},
   "source": [
    "## Which words contribute most to positive & negative sentiments?"
   ]
  },
  {
   "cell_type": "markdown",
   "metadata": {},
   "source": [
    "Recall that in Module 2 assignment, we were able to compute the \"**most positive words**\". These are words that correspond most strongly with positive reviews. In order to do this, we will first do the following:\n",
    "* Treat each coefficient as a tuple, i.e. (**word**, **coefficient_value**).\n",
    "* Sort all the (**word**, **coefficient_value**) tuples by **coefficient_value** in descending order."
   ]
  },
  {
   "cell_type": "code",
   "execution_count": 125,
   "metadata": {
    "collapsed": false,
    "scrolled": true
   },
   "outputs": [
    {
     "name": "stdout",
     "output_type": "stream",
     "text": [
      "[('great', 0.066546084170457681),\n",
      " ('love', 0.065890762922123258),\n",
      " ('easy', 0.064794586802578394),\n",
      " ('little', 0.045435626308421372),\n",
      " ('loves', 0.044976401394906038),\n",
      " ('well', 0.030135001092107077),\n",
      " ('perfect', 0.029739937104968459),\n",
      " ('old', 0.020077541034775378),\n",
      " ('nice', 0.018408707995268992),\n",
      " ('daughter', 0.017703199905701694),\n",
      " ('soft', 0.01757027224560289),\n",
      " ('fits', 0.016882471071408719),\n",
      " ('happy', 0.016805295889768077),\n",
      " ('baby', 0.015565696580423512),\n",
      " ('recommend', 0.015408450108008665),\n",
      " ('also', 0.015216196422918845),\n",
      " ('best', 0.014991791565630266),\n",
      " ('comfortable', 0.013253990081584901),\n",
      " ('car', 0.012685935745813375),\n",
      " ('clean', 0.012018174433365525),\n",
      " ('son', 0.011944817713693955),\n",
      " ('bit', 0.01170824809312326),\n",
      " ('works', 0.011703160621987426),\n",
      " ('size', 0.010715966516270298),\n",
      " ('stroller', 0.0099091646359727326),\n",
      " ('room', 0.0097832410215680631),\n",
      " ('price', 0.0095727335435901815),\n",
      " ('play', 0.0091784289839843096),\n",
      " ('easily', 0.009032818138954405),\n",
      " ('kids', 0.0085828430043465281),\n",
      " ('still', 0.0082646669453744614),\n",
      " ('lot', 0.0079993893492483256),\n",
      " ('around', 0.0075089180973143422),\n",
      " ('need', 0.0071719072700270909),\n",
      " ('take', 0.0067101233146641725),\n",
      " ('keep', 0.0064376680818701891),\n",
      " ('crib', 0.0060027997886387061),\n",
      " ('without', 0.0059235361132202744),\n",
      " ('year', 0.0057332000284878891),\n",
      " ('set', 0.0056747899080565687),\n",
      " ('cute', 0.00553751236405903),\n",
      " ('use', 0.0050174388165654116),\n",
      " ('big', 0.0046066187619706045),\n",
      " ('diaper', 0.0042793828903547691),\n",
      " ('wish', 0.0040203765080997498),\n",
      " ('seat', 0.0039835336394136124),\n",
      " ('though', 0.0033448995950862929),\n",
      " ('every', 0.0030814786398540429),\n",
      " ('enough', 0.0030678550129901098),\n",
      " ('able', 0.0029803067506612613),\n",
      " ('bag', 0.00286178751610521),\n",
      " ('babies', 0.0028581898513427399),\n",
      " ('seems', 0.002815332188646534),\n",
      " ('night', 0.002808259066683149),\n",
      " ('good', 0.002768203906397679),\n",
      " ('many', 0.0026466106385121292),\n",
      " ('makes', 0.0023134923740490217),\n",
      " ('pretty', 0.0022363904560238454),\n",
      " ('long', 0.0021872401621619445),\n",
      " ('think', 0.0017456314732199934),\n",
      " ('toy', 0.0017230705102314376),\n",
      " ('since', 0.0015547861236921187),\n",
      " ('looking', 0.0015347116392846502),\n",
      " ('us', 0.0015136828514065381),\n",
      " ('purchase', 0.001222578323510636),\n",
      " ('put', 0.00089923908141546717),\n",
      " ('cover', 0.0008292511599959563),\n",
      " ('used', 0.00061012880897526464),\n",
      " ('found', 0.00041209171300655653),\n",
      " ('really', 0.00027259206246776045),\n",
      " ('won', 0.00011988500346780872),\n",
      " ('go', 9.9166682748142668e-05),\n",
      " ('looks', 1.3669928550231038e-05),\n",
      " ('high', -0.00018648923566776254),\n",
      " ('day', -0.0001885722805001112),\n",
      " ('bottles', -0.00033566600034981662),\n",
      " ('chair', -0.00051596048462622857),\n",
      " ('using', -0.00065735036209234288),\n",
      " ('side', -0.0008613904437686894),\n",
      " ('worth', -0.00097621967562233722),\n",
      " ('almost', -0.0011449351626316184),\n",
      " ('hold', -0.0012476158571719641),\n",
      " ('months', -0.0013621951573487428),\n",
      " ('look', -0.00164575144738455),\n",
      " ('sure', -0.0016689531424132916),\n",
      " ('find', -0.001941995510954018),\n",
      " ('amazon', -0.0019732093718961645),\n",
      " ('month', -0.0022031766056230693),\n",
      " ('getting', -0.0022203440239695676),\n",
      " ('come', -0.0024780569860886567),\n",
      " ('second', -0.0030186660106671834),\n",
      " ('head', -0.0030257887493927997),\n",
      " ('small', -0.0030534547593308687),\n",
      " ('place', -0.0033188773175082003),\n",
      " ('together', -0.0034133092891886528),\n",
      " ('want', -0.0034808852314084323),\n",
      " ('like', -0.0035048841333352068),\n",
      " ('give', -0.0035098451575682477),\n",
      " ('say', -0.003736943858748521),\n",
      " ('wanted', -0.0038141640936843113),\n",
      " ('know', -0.0040749701003517024),\n",
      " ('took', -0.0042664438640147087),\n",
      " ('much', -0.0043970006745094291),\n",
      " ('see', -0.0046597374068885634),\n",
      " ('purchased', -0.0047899094286734025),\n",
      " ('fit', -0.0047957952780930194),\n",
      " ('gate', -0.0050129173061971271),\n",
      " ('bottle', -0.0050408216362491497),\n",
      " ('different', -0.0050412750790588164),\n",
      " ('came', -0.0051011560842950596),\n",
      " ('however', -0.0051028797848771106),\n",
      " ('make', -0.0052058842106071593),\n",
      " ('new', -0.0052878621959721516),\n",
      " ('buying', -0.0054430034643825958),\n",
      " ('last', -0.0054701615413924338),\n",
      " ('actually', -0.0056057334752514145),\n",
      " ('less', -0.0056549872222576951),\n",
      " ('child', -0.0060871403023475545),\n",
      " ('started', -0.006262831503162306),\n",
      " ('instead', -0.0063001267181794626),\n",
      " ('water', -0.0063005429622255433),\n",
      " ('maybe', -0.0064009893446270224),\n",
      " ('problem', -0.0064095891550037818),\n",
      " ('right', -0.0064136885850504793),\n",
      " ('tub', -0.0064758768730180886),\n",
      " ('said', -0.0067628971751120251),\n",
      " ('went', -0.0068705023944023828),\n",
      " ('quality', -0.0069101081121460363),\n",
      " ('pump', -0.006952869149061942),\n",
      " ('top', -0.0070079191164656796),\n",
      " ('part', -0.0070417199084278053),\n",
      " ('ordered', -0.0070757309816473464),\n",
      " ('either', -0.0070920593441351392),\n",
      " ('bottom', -0.0072209880120885674),\n",
      " ('anything', -0.0072241994259100977),\n",
      " ('made', -0.0073534593690945263),\n",
      " ('weeks', -0.0073726305977644107),\n",
      " ('design', -0.0077322878173709912),\n",
      " ('times', -0.0077641878083142442),\n",
      " ('picture', -0.0081015029526760145),\n",
      " ('away', -0.0083178298076960911),\n",
      " ('one', -0.0085020467457573665),\n",
      " ('milk', -0.0089357286159934789),\n",
      " ('stay', -0.0090665333735902159),\n",
      " ('open', -0.0091204919107482751),\n",
      " ('cup', -0.009259144043189978),\n",
      " ('worked', -0.0093152081919567181),\n",
      " ('trying', -0.0098742479801358744),\n",
      " ('completely', -0.010006213059178752),\n",
      " ('got', -0.010147655511657536),\n",
      " ('difficult', -0.010219204790778673),\n",
      " ('piece', -0.010282634317735408),\n",
      " ('two', -0.010576801537792876),\n",
      " ('box', -0.010669132724912935),\n",
      " ('going', -0.010770935491004767),\n",
      " ('try', -0.010918793208792996),\n",
      " ('another', -0.010950912169649831),\n",
      " ('unit', -0.0115230475554972),\n",
      " ('working', -0.011895059489782875),\n",
      " ('idea', -0.012101030310887904),\n",
      " ('bought', -0.012170641997242545),\n",
      " ('company', -0.012506394670958822),\n",
      " ('received', -0.012605189953662308),\n",
      " ('bad', -0.012754571329579798),\n",
      " ('something', -0.012808838024750812),\n",
      " ('never', -0.012969046546319293),\n",
      " ('first', -0.01321347530167705),\n",
      " ('hard', -0.013756676731261401),\n",
      " ('thing', -0.013868727265297582),\n",
      " ('cheap', -0.014709833465080665),\n",
      " ('reviews', -0.01486631944997698),\n",
      " ('plastic', -0.014977044903587944),\n",
      " ('better', -0.015040658977043393),\n",
      " ('broke', -0.015537698955653887),\n",
      " ('returned', -0.016001798500102516),\n",
      " ('item', -0.01713786701085479),\n",
      " ('buy', -0.017737543997218049),\n",
      " ('time', -0.018246193486087036),\n",
      " ('way', -0.018359460662945686),\n",
      " ('tried', -0.018702371424325834),\n",
      " ('could', -0.01984625666077721),\n",
      " ('thought', -0.021394348543682488),\n",
      " ('waste', -0.024042748071154956),\n",
      " ('monitor', -0.024482100545891717),\n",
      " ('return', -0.026592778462247283),\n",
      " ('back', -0.027742697230661337),\n",
      " ('get', -0.028711552980192581),\n",
      " ('disappointed', -0.028978976142317068),\n",
      " ('even', -0.030051249236035804),\n",
      " ('work', -0.03306951529475273),\n",
      " ('money', -0.038982037286487109),\n",
      " ('product', -0.041511033392108897),\n",
      " ('would', -0.053860148445203135)]\n"
     ]
    }
   ],
   "source": [
    "import pprint\n",
    "\n",
    "coefficients = list(coefficients[1:]) # exclude intercept\n",
    "word_coefficient_tuples = [(word, coefficient) for word, coefficient in zip(important_words, coefficients)]\n",
    "word_coefficient_tuples = sorted(word_coefficient_tuples, key=lambda x:x[1], reverse=True)\n",
    "pprint.pprint(word_coefficient_tuples)"
   ]
  },
  {
   "cell_type": "markdown",
   "metadata": {},
   "source": [
    "Now, **word_coefficient_tuples** contains a sorted list of (**word**, **coefficient_value**) tuples. The first 10 elements in this list correspond to the words that are most positive."
   ]
  },
  {
   "cell_type": "markdown",
   "metadata": {},
   "source": [
    "### Ten \"most positive\" words\n",
    "\n",
    "Now, we compute the 10 words that have the most positive coefficient values. These words are associated with positive sentiment."
   ]
  },
  {
   "cell_type": "code",
   "execution_count": 126,
   "metadata": {
    "collapsed": false
   },
   "outputs": [
    {
     "name": "stdout",
     "output_type": "stream",
     "text": [
      "[('would', -0.053860148445203135),\n",
      " ('product', -0.041511033392108897),\n",
      " ('money', -0.038982037286487109),\n",
      " ('work', -0.03306951529475273),\n",
      " ('even', -0.030051249236035804),\n",
      " ('disappointed', -0.028978976142317068),\n",
      " ('get', -0.028711552980192581),\n",
      " ('back', -0.027742697230661337),\n",
      " ('return', -0.026592778462247283),\n",
      " ('monitor', -0.024482100545891717),\n",
      " ('waste', -0.024042748071154956),\n",
      " ('thought', -0.021394348543682488),\n",
      " ('could', -0.01984625666077721),\n",
      " ('tried', -0.018702371424325834),\n",
      " ('way', -0.018359460662945686),\n",
      " ('time', -0.018246193486087036),\n",
      " ('buy', -0.017737543997218049),\n",
      " ('item', -0.01713786701085479),\n",
      " ('returned', -0.016001798500102516),\n",
      " ('broke', -0.015537698955653887),\n",
      " ('better', -0.015040658977043393),\n",
      " ('plastic', -0.014977044903587944),\n",
      " ('reviews', -0.01486631944997698),\n",
      " ('cheap', -0.014709833465080665),\n",
      " ('thing', -0.013868727265297582),\n",
      " ('hard', -0.013756676731261401),\n",
      " ('first', -0.01321347530167705),\n",
      " ('never', -0.012969046546319293),\n",
      " ('something', -0.012808838024750812),\n",
      " ('bad', -0.012754571329579798),\n",
      " ('received', -0.012605189953662308),\n",
      " ('company', -0.012506394670958822),\n",
      " ('bought', -0.012170641997242545),\n",
      " ('idea', -0.012101030310887904),\n",
      " ('working', -0.011895059489782875),\n",
      " ('unit', -0.0115230475554972),\n",
      " ('another', -0.010950912169649831),\n",
      " ('try', -0.010918793208792996),\n",
      " ('going', -0.010770935491004767),\n",
      " ('box', -0.010669132724912935),\n",
      " ('two', -0.010576801537792876),\n",
      " ('piece', -0.010282634317735408),\n",
      " ('difficult', -0.010219204790778673),\n",
      " ('got', -0.010147655511657536),\n",
      " ('completely', -0.010006213059178752),\n",
      " ('trying', -0.0098742479801358744),\n",
      " ('worked', -0.0093152081919567181),\n",
      " ('cup', -0.009259144043189978),\n",
      " ('open', -0.0091204919107482751),\n",
      " ('stay', -0.0090665333735902159),\n",
      " ('milk', -0.0089357286159934789),\n",
      " ('one', -0.0085020467457573665),\n",
      " ('away', -0.0083178298076960911),\n",
      " ('picture', -0.0081015029526760145),\n",
      " ('times', -0.0077641878083142442),\n",
      " ('design', -0.0077322878173709912),\n",
      " ('weeks', -0.0073726305977644107),\n",
      " ('made', -0.0073534593690945263),\n",
      " ('anything', -0.0072241994259100977),\n",
      " ('bottom', -0.0072209880120885674),\n",
      " ('either', -0.0070920593441351392),\n",
      " ('ordered', -0.0070757309816473464),\n",
      " ('part', -0.0070417199084278053),\n",
      " ('top', -0.0070079191164656796),\n",
      " ('pump', -0.006952869149061942),\n",
      " ('quality', -0.0069101081121460363),\n",
      " ('went', -0.0068705023944023828),\n",
      " ('said', -0.0067628971751120251),\n",
      " ('tub', -0.0064758768730180886),\n",
      " ('right', -0.0064136885850504793),\n",
      " ('problem', -0.0064095891550037818),\n",
      " ('maybe', -0.0064009893446270224),\n",
      " ('water', -0.0063005429622255433),\n",
      " ('instead', -0.0063001267181794626),\n",
      " ('started', -0.006262831503162306),\n",
      " ('child', -0.0060871403023475545),\n",
      " ('less', -0.0056549872222576951),\n",
      " ('actually', -0.0056057334752514145),\n",
      " ('last', -0.0054701615413924338),\n",
      " ('buying', -0.0054430034643825958),\n",
      " ('new', -0.0052878621959721516),\n",
      " ('make', -0.0052058842106071593),\n",
      " ('however', -0.0051028797848771106),\n",
      " ('came', -0.0051011560842950596),\n",
      " ('different', -0.0050412750790588164),\n",
      " ('bottle', -0.0050408216362491497),\n",
      " ('gate', -0.0050129173061971271),\n",
      " ('fit', -0.0047957952780930194),\n",
      " ('purchased', -0.0047899094286734025),\n",
      " ('see', -0.0046597374068885634),\n",
      " ('much', -0.0043970006745094291),\n",
      " ('took', -0.0042664438640147087),\n",
      " ('know', -0.0040749701003517024),\n",
      " ('wanted', -0.0038141640936843113),\n",
      " ('say', -0.003736943858748521),\n",
      " ('give', -0.0035098451575682477),\n",
      " ('like', -0.0035048841333352068),\n",
      " ('want', -0.0034808852314084323),\n",
      " ('together', -0.0034133092891886528),\n",
      " ('place', -0.0033188773175082003),\n",
      " ('small', -0.0030534547593308687),\n",
      " ('head', -0.0030257887493927997),\n",
      " ('second', -0.0030186660106671834),\n",
      " ('come', -0.0024780569860886567),\n",
      " ('getting', -0.0022203440239695676),\n",
      " ('month', -0.0022031766056230693),\n",
      " ('amazon', -0.0019732093718961645),\n",
      " ('find', -0.001941995510954018),\n",
      " ('sure', -0.0016689531424132916),\n",
      " ('look', -0.00164575144738455),\n",
      " ('months', -0.0013621951573487428),\n",
      " ('hold', -0.0012476158571719641),\n",
      " ('almost', -0.0011449351626316184),\n",
      " ('worth', -0.00097621967562233722),\n",
      " ('side', -0.0008613904437686894),\n",
      " ('using', -0.00065735036209234288),\n",
      " ('chair', -0.00051596048462622857),\n",
      " ('bottles', -0.00033566600034981662),\n",
      " ('day', -0.0001885722805001112),\n",
      " ('high', -0.00018648923566776254),\n",
      " ('looks', 1.3669928550231038e-05),\n",
      " ('go', 9.9166682748142668e-05),\n",
      " ('won', 0.00011988500346780872),\n",
      " ('really', 0.00027259206246776045),\n",
      " ('found', 0.00041209171300655653),\n",
      " ('used', 0.00061012880897526464),\n",
      " ('cover', 0.0008292511599959563),\n",
      " ('put', 0.00089923908141546717),\n",
      " ('purchase', 0.001222578323510636),\n",
      " ('us', 0.0015136828514065381),\n",
      " ('looking', 0.0015347116392846502),\n",
      " ('since', 0.0015547861236921187),\n",
      " ('toy', 0.0017230705102314376),\n",
      " ('think', 0.0017456314732199934),\n",
      " ('long', 0.0021872401621619445),\n",
      " ('pretty', 0.0022363904560238454),\n",
      " ('makes', 0.0023134923740490217),\n",
      " ('many', 0.0026466106385121292),\n",
      " ('good', 0.002768203906397679),\n",
      " ('night', 0.002808259066683149),\n",
      " ('seems', 0.002815332188646534),\n",
      " ('babies', 0.0028581898513427399),\n",
      " ('bag', 0.00286178751610521),\n",
      " ('able', 0.0029803067506612613),\n",
      " ('enough', 0.0030678550129901098),\n",
      " ('every', 0.0030814786398540429),\n",
      " ('though', 0.0033448995950862929),\n",
      " ('seat', 0.0039835336394136124),\n",
      " ('wish', 0.0040203765080997498),\n",
      " ('diaper', 0.0042793828903547691),\n",
      " ('big', 0.0046066187619706045),\n",
      " ('use', 0.0050174388165654116),\n",
      " ('cute', 0.00553751236405903),\n",
      " ('set', 0.0056747899080565687),\n",
      " ('year', 0.0057332000284878891),\n",
      " ('without', 0.0059235361132202744),\n",
      " ('crib', 0.0060027997886387061),\n",
      " ('keep', 0.0064376680818701891),\n",
      " ('take', 0.0067101233146641725),\n",
      " ('need', 0.0071719072700270909),\n",
      " ('around', 0.0075089180973143422),\n",
      " ('lot', 0.0079993893492483256),\n",
      " ('still', 0.0082646669453744614),\n",
      " ('kids', 0.0085828430043465281),\n",
      " ('easily', 0.009032818138954405),\n",
      " ('play', 0.0091784289839843096),\n",
      " ('price', 0.0095727335435901815),\n",
      " ('room', 0.0097832410215680631),\n",
      " ('stroller', 0.0099091646359727326),\n",
      " ('size', 0.010715966516270298),\n",
      " ('works', 0.011703160621987426),\n",
      " ('bit', 0.01170824809312326),\n",
      " ('son', 0.011944817713693955),\n",
      " ('clean', 0.012018174433365525),\n",
      " ('car', 0.012685935745813375),\n",
      " ('comfortable', 0.013253990081584901),\n",
      " ('best', 0.014991791565630266),\n",
      " ('also', 0.015216196422918845),\n",
      " ('recommend', 0.015408450108008665),\n",
      " ('baby', 0.015565696580423512),\n",
      " ('happy', 0.016805295889768077),\n",
      " ('fits', 0.016882471071408719),\n",
      " ('soft', 0.01757027224560289),\n",
      " ('daughter', 0.017703199905701694),\n",
      " ('nice', 0.018408707995268992),\n",
      " ('old', 0.020077541034775378),\n",
      " ('perfect', 0.029739937104968459),\n",
      " ('well', 0.030135001092107077),\n",
      " ('loves', 0.044976401394906038),\n",
      " ('little', 0.045435626308421372),\n",
      " ('easy', 0.064794586802578394),\n",
      " ('love', 0.065890762922123258),\n",
      " ('great', 0.066546084170457681)]\n"
     ]
    }
   ],
   "source": [
    "word_coefficient_tuples = sorted(word_coefficient_tuples, key=lambda x:x[1], reverse=False)\n",
    "pprint.pprint(word_coefficient_tuples )"
   ]
  },
  {
   "cell_type": "markdown",
   "metadata": {},
   "source": [
    "** Quiz question:** Which word is **not** present in the top 10 \"most positive\" words?"
   ]
  },
  {
   "cell_type": "markdown",
   "metadata": {},
   "source": [
    "### Ten \"most negative\" words\n",
    "\n",
    "Next, we repeat this exercise on the 10 most negative words.  That is, we compute the 10 words that have the most negative coefficient values. These words are associated with negative sentiment."
   ]
  },
  {
   "cell_type": "markdown",
   "metadata": {},
   "source": [
    "** Quiz question:** Which word is **not** present in the top 10 \"most negative\" words?"
   ]
  }
 ],
 "metadata": {
  "kernelspec": {
   "display_name": "Python 2",
   "language": "python",
   "name": "python2"
  },
  "language_info": {
   "codemirror_mode": {
    "name": "ipython",
    "version": 2
   },
   "file_extension": ".py",
   "mimetype": "text/x-python",
   "name": "python",
   "nbconvert_exporter": "python",
   "pygments_lexer": "ipython2",
   "version": "2.7.11"
  }
 },
 "nbformat": 4,
 "nbformat_minor": 0
}
